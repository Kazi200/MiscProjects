{
 "cells": [
  {
   "cell_type": "code",
   "execution_count": 104,
   "metadata": {},
   "outputs": [
    {
     "data": {
      "text/html": [
       "<style>.container { width:75% !important; }</style>"
      ],
      "text/plain": [
       "<IPython.core.display.HTML object>"
      ]
     },
     "metadata": {},
     "output_type": "display_data"
    }
   ],
   "source": [
    "from IPython.core.display import display, HTML\n",
    "display(HTML(\"<style>.container { width:75% !important; }</style>\"))\n",
    "\n",
    "import time\n",
    "import sys\n",
    "from datetime import datetime\n",
    "from selenium.common.exceptions import NoSuchElementException\n",
    "import os\n",
    "from selenium.webdriver.common.by import By\n",
    "from selenium.webdriver.support import expected_conditions as EC\n",
    "from selenium.webdriver.support.wait import WebDriverWait\n",
    "from selenium import webdriver\n",
    "from selenium.webdriver.common.action_chains import ActionChains\n",
    "import pandas as pd\n",
    "import os\n",
    "import shutil"
   ]
  },
  {
   "cell_type": "code",
   "execution_count": 105,
   "metadata": {},
   "outputs": [],
   "source": [
    "path_to_driver = r'C:\\Users\\mkazi\\Desktop\\Kazi\\Python\\Drivers\\geckodriver-v0.24.0-win64\\geckodriver.exe'"
   ]
  },
  {
   "cell_type": "code",
   "execution_count": 106,
   "metadata": {},
   "outputs": [
    {
     "name": "stdout",
     "output_type": "stream",
     "text": [
      "0\n",
      "1\n",
      "2\n",
      "3\n",
      "4\n"
     ]
    }
   ],
   "source": [
    "results = []\n",
    "\n",
    "FinalDF = pd.DataFrame({'Title': [], 'PublicationDate': [], 'Authors': [], 'Type': [], 'Source': [], 'DOI': []})\n",
    "\n",
    "\n",
    "driver = webdriver.Firefox(executable_path=path_to_driver)\n",
    "driver.get(\"https://www.emerald.com/insight/search?q=%28%22Manufacturing+Companies%22+OR+Manufacturer+OR+Industrial+OR+%22Manufacturing+firm%22+OR+Manufacturing%29++AND+%28%22Introducing+service%22+OR+%22Service+infusion%22+OR+Servitization+OR+%22Service+establishment%22+OR+%22Service+introduction%22+OR+%22Service+addition%22+OR+%22Service+incorporation+%22+OR+%22Service+inclusion%22+OR+PSS+OR+%22Product+Service+System%22%29++AND+%28%22Product+focused%22+OR+%22Product+centric%22+OR+%22Product+orientated+%22+OR+%22Product+based+%22+OR+Productized%29+AND+%28%22Business+Model*%22%29++AND+%28Opportunit*+OR+Benefit*+OR+Advantage*+OR+Merit*+OR+Perk*%29&ipp=50\")\n",
    "\n",
    "for i in range(5):\n",
    "    \n",
    "    print(i)\n",
    "\n",
    "    links = []\n",
    "    titles_list = [] \n",
    "    pubdate_list = []\n",
    "    authors_list = []\n",
    "    details_type_list = []\n",
    "    details_source_list = []\n",
    "    doi_list = []\n",
    "    merged_list = []\n",
    "\n",
    "    viewdetail = driver.find_elements_by_xpath('//*[@class=\"intent_toggle_button btn text-primary bg-white px-3 py-2 mt-2 border rounded-pill medium\"]')\n",
    "\n",
    "    for link in viewdetail:\n",
    "        links.append(link.get_attribute('title'))\n",
    "\n",
    "    for link in links:\n",
    "        element = driver.find_element_by_xpath('//*[@title=\"{}\"]'.format(link))\n",
    "        driver.execute_script(\"arguments[0].click();\", element)\n",
    "\n",
    "\n",
    "    titles = driver.find_elements_by_class_name('intent_title')\n",
    "    pubdate = driver.find_elements_by_class_name('intent_publication_date.font-weight-normal')\n",
    "    authors = driver.find_elements_by_class_name('my-3.medium.font-weight-light')\n",
    "    details_type = driver.find_elements_by_class_name('intent_type.font-weight-bold')\n",
    "    details_source = driver.find_elements_by_class_name(\"intent_publication_title.font-weight-normal\")\n",
    "    doi = driver.find_elements_by_class_name(\"intent_doi\")\n",
    "\n",
    "\n",
    "    for a in titles:\n",
    "        titles_list.append(a.text)\n",
    "\n",
    "    titles_list = list(filter(lambda a: a != 'Keywords', titles_list))\n",
    "\n",
    "    for a in pubdate:\n",
    "        pubdate_list.append(a.text)  \n",
    "    for a in authors:\n",
    "        authors_list.append(a.text)  \n",
    "    for a in details_type:\n",
    "        details_type_list.append(a.text)  \n",
    "    for a in details_source:\n",
    "        details_source_list.append(a.text)  \n",
    "    for a in doi:\n",
    "        doi_list.append(a.text)  \n",
    "\n",
    "    NewDF = pd.DataFrame({'Title': titles_list, 'PublicationDate': pubdate_list, 'Authors': authors_list, 'Type': details_type_list, 'Source': details_source_list, 'DOI': doi_list})\n",
    "\n",
    "    FinalDF = pd.concat([FinalDF, NewDF])\n",
    "\n",
    "    last_height = driver.execute_script(\"return document.body.scrollHeight\")\n",
    "    driver.execute_script(\"window.scrollTo(0, document.body.scrollHeight);\")\n",
    "\n",
    "    try:\n",
    "        driver.find_element_by_class_name(\"intent_next_page_link.page-link.pl-2\").click()\n",
    "    except:\n",
    "        pass\n",
    "\n",
    "    \n",
    "FinalDF.to_excel(r'C:\\users\\mkazi\\desktop\\results.xlsx')"
   ]
  },
  {
   "cell_type": "code",
   "execution_count": null,
   "metadata": {},
   "outputs": [],
   "source": []
  },
  {
   "cell_type": "code",
   "execution_count": null,
   "metadata": {},
   "outputs": [],
   "source": [
    "fp = webdriver.FirefoxProfile()\n",
    "\n",
    "fp.set_preference(\"browser.download.folderList\", 2)\n",
    "fp.set_preference(\"browser.download.manager.showWhenStarting\",False)\n",
    "# fp.set_preference(\"browser.download.dir\", \"/home/jill/Downloads/Dinamalar\")\n",
    "fp.set_preference(\"browser.helperApps.neverAsk.saveToDisk\", \"application/pdf,application/x-pdf\")\n",
    "fp.set_preference(\"pdfjs.disabled\", \"true\")  # < KEY PART HERE\n",
    "\n",
    "driver = webdriver.Firefox(firefox_profile=fp,executable_path=path_to_driver)"
   ]
  },
  {
   "cell_type": "code",
   "execution_count": null,
   "metadata": {},
   "outputs": [],
   "source": [
    "\n",
    "driver.get(\"https://0-www-emerald-com.ujlink.uj.ac.za/insight/\")\n",
    "\n",
    "\n",
    "driver.find_element_by_id('extpatserver').click()\n",
    "\n",
    "driver.find_element_by_id('extpatid').send_keys(\"check your email\")\n",
    "driver.find_element_by_id('extpatpw').send_keys(\"check your email\")\n",
    "\n",
    "driver.find_element_by_xpath('/html/body/div/div[3]/form/div[6]/fieldset/div[4]/a/div/div/p/input').click()\n",
    "\n",
    "searchterm = '(\"Manufacturing Companies\" OR Manufacturer OR Industrial OR \"Manufacturing firm\" OR Manufacturing) AND (\"Introducing service\" OR \"Service infusion\" OR Servitization OR \"Service establishment\" OR \"Service introduction\" OR \"Service addition\" OR \"Service incorporation \" OR \"Service inclusion\" OR PSS OR \"Product Service System\") AND (\"Product focused\" OR \"Product centric\" OR \"Product orientated \" OR \"Product based \" OR Productized) AND (\"Business Model*\") AND (Opportunit* OR Benefit* OR Advantage* OR Merit* OR Perk*)'\n",
    "driver.find_element_by_id('terms').send_keys(searchterm)\n",
    "driver.find_element_by_class_name('fa.fa-search').click()\n",
    "\n",
    "driver.find_element_by_xpath('/html/body/div[1]/main/section/div/div[1]/section[1]/div/div/div/div/button[3]').click()"
   ]
  },
  {
   "cell_type": "code",
   "execution_count": null,
   "metadata": {},
   "outputs": [],
   "source": []
  },
  {
   "cell_type": "code",
   "execution_count": null,
   "metadata": {},
   "outputs": [],
   "source": [
    "Initial_path = 'C:\\\\Users\\\\mkazi\\\\Downloads'\n",
    "valid_chars = \"-_.() %s%s\" % (string.ascii_letters, string.digits)\n",
    "restricted = ['Value-based Selling in the Service-dominated Business Landscape: Creating, Acting, and Organizing to Improve Customer’s Profits.',\n",
    "              'Value-Added Logistics Services Potential After Panama Canal Expansion.']\n",
    "\n",
    "for i in range(4):\n",
    "        pdfs = driver.find_elements_by_class_name('row.mb-2.intent_pdf_link')\n",
    "\n",
    "        for link in pdfs:\n",
    "            if link.get_attribute('title')[17:] not in restricted:\n",
    "                driver.execute_script(\"arguments[0].click();\", link)\n",
    "                time.sleep(10)\n",
    "\n",
    "                filename = max([Initial_path + \"\\\\\" + f for f in os.listdir(Initial_path)],key=os.path.getctime)\n",
    "                NewTitle = link.get_attribute('title')[17:]\n",
    "                NewTitle = ''.join(c for c in NewTitle if c in valid_chars) + 'pdf'\n",
    "                print(NewTitle)\n",
    "                old_file = os.path.join(Initial_path, filename[25:])\n",
    "                new_file = os.path.join(Initial_path, NewTitle)\n",
    "                os.rename(old_file, new_file)\n",
    "            else:\n",
    "                pass\n",
    "\n",
    "        last_height = driver.execute_script(\"return document.body.scrollHeight\")\n",
    "        driver.execute_script(\"window.scrollTo(0, document.body.scrollHeight);\")\n",
    "\n",
    "        try:\n",
    "            driver.find_element_by_class_name(\"intent_next_page_link.page-link.pl-2\").click()\n",
    "        except:\n",
    "            pass\n"
   ]
  },
  {
   "cell_type": "code",
   "execution_count": null,
   "metadata": {},
   "outputs": [],
   "source": []
  },
  {
   "cell_type": "code",
   "execution_count": null,
   "metadata": {},
   "outputs": [],
   "source": []
  },
  {
   "cell_type": "code",
   "execution_count": null,
   "metadata": {},
   "outputs": [],
   "source": []
  },
  {
   "cell_type": "code",
   "execution_count": null,
   "metadata": {},
   "outputs": [],
   "source": []
  },
  {
   "cell_type": "code",
   "execution_count": null,
   "metadata": {},
   "outputs": [],
   "source": []
  },
  {
   "cell_type": "code",
   "execution_count": null,
   "metadata": {},
   "outputs": [],
   "source": []
  }
 ],
 "metadata": {
  "kernelspec": {
   "display_name": "Python 3",
   "language": "python",
   "name": "python3"
  },
  "language_info": {
   "codemirror_mode": {
    "name": "ipython",
    "version": 3
   },
   "file_extension": ".py",
   "mimetype": "text/x-python",
   "name": "python",
   "nbconvert_exporter": "python",
   "pygments_lexer": "ipython3",
   "version": "3.6.6"
  }
 },
 "nbformat": 4,
 "nbformat_minor": 2
}
